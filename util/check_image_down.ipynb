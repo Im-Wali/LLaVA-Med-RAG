{
 "cells": [
  {
   "cell_type": "code",
   "execution_count": null,
   "metadata": {},
   "outputs": [
    {
     "name": "stdout",
     "output_type": "stream",
     "text": [
      "총 613240건의 데이터를 10개로 분할합니다.\n",
      "../data/mimic_cxr_annotaion_json/chat_train_MIMIC_CXR_all_gpt4extract_rulebased_v1_1.json 저장 완료 - 61324건\n",
      "../data/mimic_cxr_annotaion_json/chat_train_MIMIC_CXR_all_gpt4extract_rulebased_v1_2.json 저장 완료 - 61324건\n",
      "../data/mimic_cxr_annotaion_json/chat_train_MIMIC_CXR_all_gpt4extract_rulebased_v1_3.json 저장 완료 - 61324건\n",
      "../data/mimic_cxr_annotaion_json/chat_train_MIMIC_CXR_all_gpt4extract_rulebased_v1_4.json 저장 완료 - 61324건\n",
      "../data/mimic_cxr_annotaion_json/chat_train_MIMIC_CXR_all_gpt4extract_rulebased_v1_5.json 저장 완료 - 61324건\n",
      "../data/mimic_cxr_annotaion_json/chat_train_MIMIC_CXR_all_gpt4extract_rulebased_v1_6.json 저장 완료 - 61324건\n",
      "../data/mimic_cxr_annotaion_json/chat_train_MIMIC_CXR_all_gpt4extract_rulebased_v1_7.json 저장 완료 - 61324건\n",
      "../data/mimic_cxr_annotaion_json/chat_train_MIMIC_CXR_all_gpt4extract_rulebased_v1_8.json 저장 완료 - 61324건\n",
      "../data/mimic_cxr_annotaion_json/chat_train_MIMIC_CXR_all_gpt4extract_rulebased_v1_9.json 저장 완료 - 61324건\n",
      "../data/mimic_cxr_annotaion_json/chat_train_MIMIC_CXR_all_gpt4extract_rulebased_v1_10.json 저장 완료 - 61324건\n"
     ]
    }
   ],
   "source": [
    "import os\n",
    "import json\n",
    "\n",
    "# JSON 파일 경로 (수정해서 사용)\n",
    "json_path = \"/path/to/chat_train_MIMIC_CXR_all_gpt4extract_rulebased_v1_1.json\"\n",
    "\n",
    "# 이미지가 저장된 루트 디렉토리 (예: \"/workspace\")\n",
    "image_root = \"/workspace\"\n",
    "\n",
    "# JSON 로드\n",
    "with open(json_path, \"r\", encoding=\"utf-8\") as f:\n",
    "    data = json.load(f)\n",
    "\n",
    "# 존재하지 않는 이미지 추적\n",
    "missing_images = []\n",
    "\n",
    "for item in data:\n",
    "    relative_path = item.get(\"image\", \"\")\n",
    "    image_path = os.path.join(image_root, relative_path)\n",
    "\n",
    "    if not os.path.exists(image_path):\n",
    "        missing_images.append(image_path)\n",
    "\n",
    "# 결과 출력\n",
    "print(f\"총 {len(data)}개 중 누락된 이미지: {len(missing_images)}개\")\n",
    "\n",
    "if missing_images:\n",
    "    print(\"존재하지 않는 이미지 목록:\")\n",
    "    for path in missing_images[:10]:  # 너무 많을 수 있으니 상위 10개만 출력\n",
    "        print(\" -\", path)\n"
   ]
  }
 ],
 "metadata": {
  "kernelspec": {
   "display_name": "llm",
   "language": "python",
   "name": "llm"
  },
  "language_info": {
   "codemirror_mode": {
    "name": "ipython",
    "version": 3
   },
   "file_extension": ".py",
   "mimetype": "text/x-python",
   "name": "python",
   "nbconvert_exporter": "python",
   "pygments_lexer": "ipython3",
   "version": "3.9.20"
  }
 },
 "nbformat": 4,
 "nbformat_minor": 2
}
