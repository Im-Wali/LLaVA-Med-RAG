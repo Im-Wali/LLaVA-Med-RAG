{
 "cells": [
  {
   "cell_type": "code",
   "execution_count": 1,
   "metadata": {},
   "outputs": [
    {
     "name": "stdout",
     "output_type": "stream",
     "text": [
      "총 613240건의 데이터를 10개로 분할합니다.\n",
      "../data/mimic_cxr_annotaion_json/chat_train_MIMIC_CXR_all_gpt4extract_rulebased_v1_1.json 저장 완료 - 61324건\n",
      "../data/mimic_cxr_annotaion_json/chat_train_MIMIC_CXR_all_gpt4extract_rulebased_v1_2.json 저장 완료 - 61324건\n",
      "../data/mimic_cxr_annotaion_json/chat_train_MIMIC_CXR_all_gpt4extract_rulebased_v1_3.json 저장 완료 - 61324건\n",
      "../data/mimic_cxr_annotaion_json/chat_train_MIMIC_CXR_all_gpt4extract_rulebased_v1_4.json 저장 완료 - 61324건\n",
      "../data/mimic_cxr_annotaion_json/chat_train_MIMIC_CXR_all_gpt4extract_rulebased_v1_5.json 저장 완료 - 61324건\n",
      "../data/mimic_cxr_annotaion_json/chat_train_MIMIC_CXR_all_gpt4extract_rulebased_v1_6.json 저장 완료 - 61324건\n",
      "../data/mimic_cxr_annotaion_json/chat_train_MIMIC_CXR_all_gpt4extract_rulebased_v1_7.json 저장 완료 - 61324건\n",
      "../data/mimic_cxr_annotaion_json/chat_train_MIMIC_CXR_all_gpt4extract_rulebased_v1_8.json 저장 완료 - 61324건\n",
      "../data/mimic_cxr_annotaion_json/chat_train_MIMIC_CXR_all_gpt4extract_rulebased_v1_9.json 저장 완료 - 61324건\n",
      "../data/mimic_cxr_annotaion_json/chat_train_MIMIC_CXR_all_gpt4extract_rulebased_v1_10.json 저장 완료 - 61324건\n"
     ]
    }
   ],
   "source": [
    "import json\n",
    "import math\n",
    "import os\n",
    "\n",
    "# 입력 파일 경로\n",
    "input_path = \"../data/mimic_cxr_annotaion_json/chat_train_MIMIC_CXR_all_gpt4extract_rulebased_v1.json\"\n",
    "\n",
    "# 출력 디렉토리 경로 (원하는 경로로 바꿔줘)\n",
    "output_dir = \"../data/mimic_cxr_annotaion_json/\"  # 예: \"/home/user/output\"\n",
    "\n",
    "# 출력 파일 이름 접두사\n",
    "output_prefix = \"chat_train_MIMIC_CXR_all_gpt4extract_rulebased_v1_\"\n",
    "\n",
    "# 슬라이스 크기\n",
    "chunk_size = 61324\n",
    "\n",
    "# 출력 디렉토리 없으면 생성\n",
    "os.makedirs(output_dir, exist_ok=True)\n",
    "\n",
    "# JSON 로드\n",
    "with open(input_path, \"r\", encoding=\"utf-8\") as f:\n",
    "    data = json.load(f)\n",
    "\n",
    "# 전체 데이터 개수\n",
    "total = len(data)\n",
    "num_chunks = math.ceil(total / chunk_size)\n",
    "\n",
    "print(f\"총 {total}건의 데이터를 {num_chunks}개로 분할합니다.\")\n",
    "\n",
    "# 분할 저장\n",
    "for i in range(num_chunks):\n",
    "    chunk = data[i * chunk_size : (i + 1) * chunk_size]\n",
    "    output_file = os.path.join(output_dir, f\"{output_prefix}{i+1}.json\")\n",
    "\n",
    "    with open(output_file, \"w\", encoding=\"utf-8\") as f:\n",
    "        json.dump(chunk, f, ensure_ascii=False, indent=2)\n",
    "\n",
    "    print(f\"{output_file} 저장 완료 - {len(chunk)}건\")\n"
   ]
  }
 ],
 "metadata": {
  "kernelspec": {
   "display_name": "llm",
   "language": "python",
   "name": "llm"
  },
  "language_info": {
   "codemirror_mode": {
    "name": "ipython",
    "version": 3
   },
   "file_extension": ".py",
   "mimetype": "text/x-python",
   "name": "python",
   "nbconvert_exporter": "python",
   "pygments_lexer": "ipython3",
   "version": "3.9.20"
  }
 },
 "nbformat": 4,
 "nbformat_minor": 2
}
