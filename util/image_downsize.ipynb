{
 "cells": [
  {
   "cell_type": "code",
   "execution_count": null,
   "metadata": {
    "vscode": {
     "languageId": "plaintext"
    }
   },
   "outputs": [],
   "source": [
    "import os\n",
    "import shutil\n",
    "from PIL import Image\n",
    "\n",
    "# 원본 및 변경된 이미지 폴더 경로\n",
    "source_root = \"mimic/\"\n",
    "target_root = \"mimic-downsize/\"\n",
    "\n",
    "# 지원하는 이미지 확장자 목록\n",
    "IMAGE_EXTENSIONS = (\".jpg\", \".jpeg\", \".png\")\n",
    "\n",
    "# 파일 처리 함수\n",
    "def process_files(source_folder, target_folder):\n",
    "    for root, _, files in os.walk(source_folder):\n",
    "        # 동일한 폴더 구조를 유지하며 target_folder에 생성\n",
    "        relative_path = os.path.relpath(root, source_folder)\n",
    "        target_path = os.path.join(target_folder, relative_path)\n",
    "        os.makedirs(target_path, exist_ok=True)\n",
    "\n",
    "        for file in files:\n",
    "            source_file_path = os.path.join(root, file)\n",
    "            target_file_path = os.path.join(target_path, file)\n",
    "\n",
    "            # 이미지 파일인 경우 해상도 줄이기\n",
    "            if file.lower().endswith(IMAGE_EXTENSIONS):\n",
    "                try:\n",
    "                    with Image.open(source_file_path) as img:\n",
    "                        # 현재 이미지 크기 확인\n",
    "                        width, height = img.size\n",
    "                        new_size = (width // 4, height // 4)  # 1/4 크기로 조정\n",
    "                        img = img.resize(new_size, Image.ANTIALIAS)  # 고품질 리사이징\n",
    "                        img.save(target_file_path)  # 축소된 이미지 저장\n",
    "                        print(f\"이미지 변환 완료: {source_file_path} → {target_file_path}\")\n",
    "                except Exception as e:\n",
    "                    print(f\"이미지 변환 실패: {source_file_path} - {e}\")\n",
    "\n",
    "            # txt 파일인 경우 그대로 복사\n",
    "            elif file.lower().endswith(\".txt\"):\n",
    "                try:\n",
    "                    shutil.copy2(source_file_path, target_file_path)\n",
    "                    print(f\"TXT 파일 복사 완료: {source_file_path} → {target_file_path}\")\n",
    "                except Exception as e:\n",
    "                    print(f\"TXT 파일 복사 실패: {source_file_path} - {e}\")\n",
    "\n",
    "# 실행\n",
    "process_files(source_root, target_root)\n",
    "\n",
    "print(\"📢 모든 이미지 및 TXT 파일 처리가 완료되었습니다!\")\n"
   ]
  }
 ],
 "metadata": {
  "language_info": {
   "name": "python"
  }
 },
 "nbformat": 4,
 "nbformat_minor": 2
}
